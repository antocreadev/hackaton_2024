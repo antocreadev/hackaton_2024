{
  "nbformat": 4,
  "nbformat_minor": 0,
  "metadata": {
    "colab": {
      "provenance": [],
      "toc_visible": true
    },
    "kernelspec": {
      "name": "python3",
      "display_name": "Python 3"
    },
    "language_info": {
      "name": "python"
    }
  },
  "cells": [
    {
      "cell_type": "code",
      "source": [
        "text_fr = \"\"\"Il était une fois, dans la ville de Paris, une jeune femme nommée Marie qui travaillait pour l'Organisation des Nations unies pour l'alimentation et l'agriculture (FAO). Elle avait pour mission de se rendre dans différents pays pour étudier les pratiques agricoles locales et promouvoir des méthodes durables pour nourrir la population mondiale croissante. Marie était passionnée par son travail et avait déjà visité de nombreux endroits, tels que le Brésil, le Kenya et l'Inde.\n",
        "\n",
        "Un jour, alors qu'elle se trouvait en mission en Égypte, Marie rencontra un homme charmant du nom d'Ahmed. Il travaillait pour une organisation locale appelée l'Association égyptienne pour le développement rural (AEDR), qui avait pour objectif d'améliorer les conditions de vie des communautés rurales en Égypte. Ahmed était également très intéressé par l'agriculture durable et lui et Marie se lièrent d'amitié rapidement.\n",
        "\n",
        "Marie et Ahmed ont continué à travailler ensemble pour promouvoir des pratiques agricoles durables en Égypte et ont finalement créé une organisation conjointe appelée l'Initiative pour une agriculture durable (IAS). Ils ont réussi à obtenir un financement de l'Union européenne pour leur projet et ont pu étendre leur travail à d'autres pays du Moyen-Orient.\n",
        "\n",
        "Au fil des années, l'IAS est devenue une organisation de premier plan dans le domaine de l'agriculture durable et a reçu de nombreux prix pour son travail. Marie et Ahmed ont continué à diriger l'organisation ensemble et ont fondé une famille heureuse en Égypte. Leur travail a permis d'améliorer la vie de nombreuses personnes dans le monde entier et leur héritage continue de vivre à travers l'IAS, qui continue à promouvoir des pratiques agricoles durables et à lutter contre la faim dans le monde.\"\"\""
      ],
      "metadata": {
        "id": "8w7hkuKZX_YR"
      },
      "execution_count": 21,
      "outputs": []
    },
    {
      "cell_type": "code",
      "source": [
        "!pip install transformers"
      ],
      "metadata": {
        "colab": {
          "base_uri": "https://localhost:8080/"
        },
        "id": "A2V1oq-zge11",
        "outputId": "103da12e-b18d-4687-9ff0-1d598d2906f4"
      },
      "execution_count": 22,
      "outputs": [
        {
          "output_type": "stream",
          "name": "stdout",
          "text": [
            "Requirement already satisfied: transformers in /usr/local/lib/python3.10/dist-packages (4.46.3)\n",
            "Requirement already satisfied: filelock in /usr/local/lib/python3.10/dist-packages (from transformers) (3.16.1)\n",
            "Requirement already satisfied: huggingface-hub<1.0,>=0.23.2 in /usr/local/lib/python3.10/dist-packages (from transformers) (0.26.3)\n",
            "Requirement already satisfied: numpy>=1.17 in /usr/local/lib/python3.10/dist-packages (from transformers) (1.26.4)\n",
            "Requirement already satisfied: packaging>=20.0 in /usr/local/lib/python3.10/dist-packages (from transformers) (24.2)\n",
            "Requirement already satisfied: pyyaml>=5.1 in /usr/local/lib/python3.10/dist-packages (from transformers) (6.0.2)\n",
            "Requirement already satisfied: regex!=2019.12.17 in /usr/local/lib/python3.10/dist-packages (from transformers) (2024.9.11)\n",
            "Requirement already satisfied: requests in /usr/local/lib/python3.10/dist-packages (from transformers) (2.32.3)\n",
            "Requirement already satisfied: tokenizers<0.21,>=0.20 in /usr/local/lib/python3.10/dist-packages (from transformers) (0.20.3)\n",
            "Requirement already satisfied: safetensors>=0.4.1 in /usr/local/lib/python3.10/dist-packages (from transformers) (0.4.5)\n",
            "Requirement already satisfied: tqdm>=4.27 in /usr/local/lib/python3.10/dist-packages (from transformers) (4.66.6)\n",
            "Requirement already satisfied: fsspec>=2023.5.0 in /usr/local/lib/python3.10/dist-packages (from huggingface-hub<1.0,>=0.23.2->transformers) (2024.10.0)\n",
            "Requirement already satisfied: typing-extensions>=3.7.4.3 in /usr/local/lib/python3.10/dist-packages (from huggingface-hub<1.0,>=0.23.2->transformers) (4.12.2)\n",
            "Requirement already satisfied: charset-normalizer<4,>=2 in /usr/local/lib/python3.10/dist-packages (from requests->transformers) (3.4.0)\n",
            "Requirement already satisfied: idna<4,>=2.5 in /usr/local/lib/python3.10/dist-packages (from requests->transformers) (3.10)\n",
            "Requirement already satisfied: urllib3<3,>=1.21.1 in /usr/local/lib/python3.10/dist-packages (from requests->transformers) (2.2.3)\n",
            "Requirement already satisfied: certifi>=2017.4.17 in /usr/local/lib/python3.10/dist-packages (from requests->transformers) (2024.8.30)\n"
          ]
        }
      ]
    },
    {
      "cell_type": "code",
      "source": [
        "!pip install sentencepiece"
      ],
      "metadata": {
        "colab": {
          "base_uri": "https://localhost:8080/"
        },
        "id": "rE_mvGOqk2b2",
        "outputId": "4f745ac5-ec22-4479-d3be-cda322c81a00"
      },
      "execution_count": 23,
      "outputs": [
        {
          "output_type": "stream",
          "name": "stdout",
          "text": [
            "Requirement already satisfied: sentencepiece in /usr/local/lib/python3.10/dist-packages (0.2.0)\n"
          ]
        }
      ]
    },
    {
      "cell_type": "markdown",
      "source": [
        "## 1. NER SpaCy Model\n",
        "\n",
        "We will start by trying NER model proposed by SpaCy"
      ],
      "metadata": {
        "id": "obOYQYOLiMiH"
      }
    },
    {
      "cell_type": "code",
      "source": [
        "from presidio_anonymizer import AnonymizerEngine\n",
        "from presidio_analyzer import AnalyzerEngine, EntityRecognizer, RecognizerResult, Pattern, PatternRecognizer\n",
        "\n",
        "from presidio_analyzer.nlp_engine import NlpArtifacts,NlpEngineProvider\n"
      ],
      "metadata": {
        "id": "6rYe0edLK3TB"
      },
      "execution_count": 24,
      "outputs": []
    },
    {
      "cell_type": "code",
      "source": [
        "configuration = {\"nlp_engine_name\":\"spacy\", \"models\":[{\"lang_code\":\"fr\", \"model_name\":\"fr_core_news_lg\"}]}\n",
        "\n",
        "\n",
        "provider = NlpEngineProvider(nlp_configuration=configuration)\n",
        "\n",
        "nlp_engine = provider.create_engine()\n",
        "\n",
        "\n",
        "analyzer = AnalyzerEngine(\n",
        "    nlp_engine=nlp_engine,\n",
        "    supported_languages = ['fr']\n",
        ")"
      ],
      "metadata": {
        "id": "tGLP7z2PK5B1",
        "colab": {
          "base_uri": "https://localhost:8080/"
        },
        "outputId": "2275e4c7-3034-4aab-d761-b4e931057a71"
      },
      "execution_count": 25,
      "outputs": [
        {
          "output_type": "stream",
          "name": "stderr",
          "text": [
            "WARNING:presidio-analyzer:model_to_presidio_entity_mapping is missing from configuration, using default\n",
            "WARNING:presidio-analyzer:low_score_entity_names is missing from configuration, using default\n",
            "WARNING:presidio-analyzer:labels_to_ignore is missing from configuration, using default\n",
            "WARNING:presidio-analyzer:Recognizer not added to registry because language is not supported by registry - CreditCardRecognizer supported languages: en, registry supported languages: fr\n",
            "WARNING:presidio-analyzer:Recognizer not added to registry because language is not supported by registry - CreditCardRecognizer supported languages: es, registry supported languages: fr\n",
            "WARNING:presidio-analyzer:Recognizer not added to registry because language is not supported by registry - CreditCardRecognizer supported languages: it, registry supported languages: fr\n",
            "WARNING:presidio-analyzer:Recognizer not added to registry because language is not supported by registry - CreditCardRecognizer supported languages: pl, registry supported languages: fr\n",
            "WARNING:presidio-analyzer:Recognizer not added to registry because language is not supported by registry - UsBankRecognizer supported languages: en, registry supported languages: fr\n",
            "WARNING:presidio-analyzer:Recognizer not added to registry because language is not supported by registry - UsLicenseRecognizer supported languages: en, registry supported languages: fr\n",
            "WARNING:presidio-analyzer:Recognizer not added to registry because language is not supported by registry - UsItinRecognizer supported languages: en, registry supported languages: fr\n",
            "WARNING:presidio-analyzer:Recognizer not added to registry because language is not supported by registry - UsPassportRecognizer supported languages: en, registry supported languages: fr\n",
            "WARNING:presidio-analyzer:Recognizer not added to registry because language is not supported by registry - UsSsnRecognizer supported languages: en, registry supported languages: fr\n",
            "WARNING:presidio-analyzer:Recognizer not added to registry because language is not supported by registry - NhsRecognizer supported languages: en, registry supported languages: fr\n",
            "WARNING:presidio-analyzer:Recognizer not added to registry because language is not supported by registry - SgFinRecognizer supported languages: en, registry supported languages: fr\n",
            "WARNING:presidio-analyzer:Recognizer not added to registry because language is not supported by registry - AuAbnRecognizer supported languages: en, registry supported languages: fr\n",
            "WARNING:presidio-analyzer:Recognizer not added to registry because language is not supported by registry - AuAcnRecognizer supported languages: en, registry supported languages: fr\n",
            "WARNING:presidio-analyzer:Recognizer not added to registry because language is not supported by registry - AuTfnRecognizer supported languages: en, registry supported languages: fr\n",
            "WARNING:presidio-analyzer:Recognizer not added to registry because language is not supported by registry - AuMedicareRecognizer supported languages: en, registry supported languages: fr\n",
            "WARNING:presidio-analyzer:Recognizer not added to registry because language is not supported by registry - InPanRecognizer supported languages: en, registry supported languages: fr\n",
            "WARNING:presidio-analyzer:Recognizer not added to registry because language is not supported by registry - InAadhaarRecognizer supported languages: en, registry supported languages: fr\n",
            "WARNING:presidio-analyzer:Recognizer not added to registry because language is not supported by registry - InVehicleRegistrationRecognizer supported languages: en, registry supported languages: fr\n",
            "WARNING:presidio-analyzer:Recognizer not added to registry because language is not supported by registry - InPassportRecognizer supported languages: en, registry supported languages: fr\n",
            "WARNING:presidio-analyzer:Recognizer not added to registry because language is not supported by registry - EsNifRecognizer supported languages: es, registry supported languages: fr\n",
            "WARNING:presidio-analyzer:Recognizer not added to registry because language is not supported by registry - EsNieRecognizer supported languages: es, registry supported languages: fr\n",
            "WARNING:presidio-analyzer:Recognizer not added to registry because language is not supported by registry - ItDriverLicenseRecognizer supported languages: it, registry supported languages: fr\n",
            "WARNING:presidio-analyzer:Recognizer not added to registry because language is not supported by registry - ItFiscalCodeRecognizer supported languages: it, registry supported languages: fr\n",
            "WARNING:presidio-analyzer:Recognizer not added to registry because language is not supported by registry - ItVatCodeRecognizer supported languages: it, registry supported languages: fr\n",
            "WARNING:presidio-analyzer:Recognizer not added to registry because language is not supported by registry - ItIdentityCardRecognizer supported languages: it, registry supported languages: fr\n",
            "WARNING:presidio-analyzer:Recognizer not added to registry because language is not supported by registry - ItPassportRecognizer supported languages: it, registry supported languages: fr\n",
            "WARNING:presidio-analyzer:Recognizer not added to registry because language is not supported by registry - PlPeselRecognizer supported languages: pl, registry supported languages: fr\n"
          ]
        }
      ]
    },
    {
      "cell_type": "code",
      "source": [
        "from transformers import AutoTokenizer, AutoModelForTokenClassification\n",
        "from transformers import pipeline\n",
        "# Loading both tokenizer and NER model\n",
        "tokenizer = AutoTokenizer.from_pretrained(\"Jean-Baptiste/camembert-ner\")\n",
        "ner_model = AutoModelForTokenClassification.from_pretrained(\"Jean-Baptiste/camembert-ner\")"
      ],
      "metadata": {
        "id": "DgnKOudFGP4k"
      },
      "execution_count": 26,
      "outputs": []
    },
    {
      "cell_type": "markdown",
      "source": [
        "## Mixed Pipeline development (Transformers + SpaCy)"
      ],
      "metadata": {
        "id": "k-M3WIMPTL_2"
      }
    },
    {
      "cell_type": "code",
      "source": [
        "from transformers import pipeline\n",
        "# list of entities: https://microsoft.github.io/presidio/supported_entities/#list-of-supported-entities\n",
        "DEFAULT_ANOYNM_ENTITIES = [\n",
        "    \"CREDIT_CARD\",\n",
        "    \"CRYPTO\",\n",
        "    \"DATE_TIME\",\n",
        "    \"EMAIL_ADDRESS\",\n",
        "    \"IBAN_CODE\",\n",
        "    \"IP_ADDRESS\",\n",
        "    \"NRP\",\n",
        "    \"LOCATION\",\n",
        "    \"PERSON\",\n",
        "    \"PHONE_NUMBER\",\n",
        "    \"MEDICAL_LICENSE\",\n",
        "    \"URL\",\n",
        "    \"ORGANIZATION\",\n",
        "    \"NUMBER\"\n",
        "]\n",
        "\n",
        "class TransformerRecognizer(EntityRecognizer):\n",
        "    def __init__(\n",
        "        self,\n",
        "        model_id_or_path,\n",
        "        mapping_labels,\n",
        "        aggregation_strategy=\"simple\",\n",
        "        supported_language=\"fr\",\n",
        "        ignore_labels=[\"O\", \"MISC\"],\n",
        "    ):\n",
        "        # inits transformers pipeline for given mode or path\n",
        "        self.pipeline = pipeline(\n",
        "            \"token-classification\", model=model_id_or_path, aggregation_strategy=aggregation_strategy, ignore_labels=ignore_labels\n",
        "        )\n",
        "        # map labels to presidio labels\n",
        "        self.label2presidio = mapping_labels\n",
        "\n",
        "        # passes entities from model into parent class\n",
        "        super().__init__(supported_entities=list(self.label2presidio.values()), supported_language=supported_language)\n",
        "\n",
        "    def load(self) -> None:\n",
        "        \"\"\"No loading is required.\"\"\"\n",
        "        pass\n",
        "\n",
        "    def analyze(\n",
        "        self, text: str, entities = None, nlp_artifacts: NlpArtifacts = None\n",
        "    ):\n",
        "        \"\"\"\n",
        "        Extracts entities using Transformers pipeline\n",
        "        \"\"\"\n",
        "        results = []\n",
        "\n",
        "        predicted_entities = self.pipeline(text)\n",
        "        if len(predicted_entities) > 0:\n",
        "            for e in predicted_entities:\n",
        "                if(e['entity_group'] not in self.label2presidio):\n",
        "                    continue\n",
        "                converted_entity = self.label2presidio[e[\"entity_group\"]]\n",
        "                if converted_entity in entities or entities is None:\n",
        "                    results.append(\n",
        "                        RecognizerResult(\n",
        "                            entity_type=converted_entity, start=e[\"start\"], end=e[\"end\"], score=e[\"score\"]\n",
        "                        )\n",
        "                    )\n",
        "        return results"
      ],
      "metadata": {
        "id": "hgPuExQ7GN7B"
      },
      "execution_count": 27,
      "outputs": []
    },
    {
      "cell_type": "code",
      "source": [
        "#mapping_labels = {\"PROPN\": \"PERSON\",\"XFAMIL\": \"PERSON\"}\n",
        "mapping_labels = {\"PER\":\"PERSON\",'LOC':'LOCATION','ORG':\"ORGANIZATION\",'PHONE_NUMBER':'PHONE_NUMBER'}\n",
        "configuration = {\"nlp_engine_name\":\"spacy\",\n",
        "                \"models\":[{\"lang_code\": 'fr', \"model_name\":\"fr_core_news_lg\"}]}\n",
        "\n",
        "\n",
        "to_keep = []\n",
        "lang = 'fr'"
      ],
      "metadata": {
        "id": "80SbWEtDHGBa"
      },
      "execution_count": 28,
      "outputs": []
    },
    {
      "cell_type": "code",
      "source": [
        "provider = NlpEngineProvider(nlp_configuration=configuration)\n",
        "nlp_engine = provider.create_engine()\n",
        "\n",
        "# Pass the created NLP engine and supported_languages to the AnalyzerEngine\n",
        "analyzer = AnalyzerEngine(\n",
        "    nlp_engine=nlp_engine,\n",
        "    supported_languages = \"fr\"\n",
        ")\n",
        "\n",
        "transformers_recognizer = TransformerRecognizer(\"Jean-Baptiste/camembert-ner\", mapping_labels)\n",
        "analyzer.registry.add_recognizer(transformers_recognizer)"
      ],
      "metadata": {
        "id": "Xe2qcwhaGbI7",
        "colab": {
          "base_uri": "https://localhost:8080/"
        },
        "outputId": "75fdfdf3-c26d-4825-fd4f-0740e7a796c0"
      },
      "execution_count": 29,
      "outputs": [
        {
          "output_type": "stream",
          "name": "stderr",
          "text": [
            "WARNING:presidio-analyzer:model_to_presidio_entity_mapping is missing from configuration, using default\n",
            "WARNING:presidio-analyzer:low_score_entity_names is missing from configuration, using default\n",
            "WARNING:presidio-analyzer:labels_to_ignore is missing from configuration, using default\n",
            "WARNING:presidio-analyzer:Recognizer not added to registry because language is not supported by registry - CreditCardRecognizer supported languages: en, registry supported languages: f, r\n",
            "WARNING:presidio-analyzer:Recognizer not added to registry because language is not supported by registry - CreditCardRecognizer supported languages: es, registry supported languages: f, r\n",
            "WARNING:presidio-analyzer:Recognizer not added to registry because language is not supported by registry - CreditCardRecognizer supported languages: it, registry supported languages: f, r\n",
            "WARNING:presidio-analyzer:Recognizer not added to registry because language is not supported by registry - CreditCardRecognizer supported languages: pl, registry supported languages: f, r\n",
            "WARNING:presidio-analyzer:Recognizer not added to registry because language is not supported by registry - UsBankRecognizer supported languages: en, registry supported languages: f, r\n",
            "WARNING:presidio-analyzer:Recognizer not added to registry because language is not supported by registry - UsLicenseRecognizer supported languages: en, registry supported languages: f, r\n",
            "WARNING:presidio-analyzer:Recognizer not added to registry because language is not supported by registry - UsItinRecognizer supported languages: en, registry supported languages: f, r\n",
            "WARNING:presidio-analyzer:Recognizer not added to registry because language is not supported by registry - UsPassportRecognizer supported languages: en, registry supported languages: f, r\n",
            "WARNING:presidio-analyzer:Recognizer not added to registry because language is not supported by registry - UsSsnRecognizer supported languages: en, registry supported languages: f, r\n",
            "WARNING:presidio-analyzer:Recognizer not added to registry because language is not supported by registry - NhsRecognizer supported languages: en, registry supported languages: f, r\n",
            "WARNING:presidio-analyzer:Recognizer not added to registry because language is not supported by registry - SgFinRecognizer supported languages: en, registry supported languages: f, r\n",
            "WARNING:presidio-analyzer:Recognizer not added to registry because language is not supported by registry - AuAbnRecognizer supported languages: en, registry supported languages: f, r\n",
            "WARNING:presidio-analyzer:Recognizer not added to registry because language is not supported by registry - AuAcnRecognizer supported languages: en, registry supported languages: f, r\n",
            "WARNING:presidio-analyzer:Recognizer not added to registry because language is not supported by registry - AuTfnRecognizer supported languages: en, registry supported languages: f, r\n",
            "WARNING:presidio-analyzer:Recognizer not added to registry because language is not supported by registry - AuMedicareRecognizer supported languages: en, registry supported languages: f, r\n",
            "WARNING:presidio-analyzer:Recognizer not added to registry because language is not supported by registry - InPanRecognizer supported languages: en, registry supported languages: f, r\n",
            "WARNING:presidio-analyzer:Recognizer not added to registry because language is not supported by registry - InAadhaarRecognizer supported languages: en, registry supported languages: f, r\n",
            "WARNING:presidio-analyzer:Recognizer not added to registry because language is not supported by registry - InVehicleRegistrationRecognizer supported languages: en, registry supported languages: f, r\n",
            "WARNING:presidio-analyzer:Recognizer not added to registry because language is not supported by registry - InPassportRecognizer supported languages: en, registry supported languages: f, r\n",
            "WARNING:presidio-analyzer:Recognizer not added to registry because language is not supported by registry - EsNifRecognizer supported languages: es, registry supported languages: f, r\n",
            "WARNING:presidio-analyzer:Recognizer not added to registry because language is not supported by registry - EsNieRecognizer supported languages: es, registry supported languages: f, r\n",
            "WARNING:presidio-analyzer:Recognizer not added to registry because language is not supported by registry - ItDriverLicenseRecognizer supported languages: it, registry supported languages: f, r\n",
            "WARNING:presidio-analyzer:Recognizer not added to registry because language is not supported by registry - ItFiscalCodeRecognizer supported languages: it, registry supported languages: f, r\n",
            "WARNING:presidio-analyzer:Recognizer not added to registry because language is not supported by registry - ItVatCodeRecognizer supported languages: it, registry supported languages: f, r\n",
            "WARNING:presidio-analyzer:Recognizer not added to registry because language is not supported by registry - ItIdentityCardRecognizer supported languages: it, registry supported languages: f, r\n",
            "WARNING:presidio-analyzer:Recognizer not added to registry because language is not supported by registry - ItPassportRecognizer supported languages: it, registry supported languages: f, r\n",
            "WARNING:presidio-analyzer:Recognizer not added to registry because language is not supported by registry - PlPeselRecognizer supported languages: pl, registry supported languages: f, r\n"
          ]
        }
      ]
    },
    {
      "cell_type": "code",
      "source": [
        "# Text Analyzer\n",
        "analyzer_results = analyzer.analyze(text=text_fr, entities = DEFAULT_ANOYNM_ENTITIES, allow_list = to_keep, language=lang)\n",
        "\n",
        "# Text Anonymizer\n",
        "engine = AnonymizerEngine()\n",
        "result = engine.anonymize(text=text_fr, analyzer_results=analyzer_results)\n",
        "\n",
        "# Restructuring anonymizer results\n",
        "\n",
        "anonymization_results =  {\"anonymized\": result.text,\"found\": [entity.to_dict() for entity in analyzer_results]}\n",
        "\n",
        "words = [{'word': text_fr[obj['start']:obj['end']], 'entity_type':obj['entity_type'], 'start':obj['start'], 'end':obj['end']} for obj in anonymization_results['found']]"
      ],
      "metadata": {
        "colab": {
          "base_uri": "https://localhost:8080/"
        },
        "id": "cpJyGgN3OvCZ",
        "outputId": "08c43db2-eb35-4e83-9dd7-63b7c3c3aab7"
      },
      "execution_count": 35,
      "outputs": [
        {
          "output_type": "stream",
          "name": "stderr",
          "text": [
            "WARNING:presidio-analyzer:Entity CREDIT_CARD doesn't have the corresponding recognizer in language : fr\n",
            "WARNING:presidio-analyzer:Entity CRYPTO doesn't have the corresponding recognizer in language : fr\n",
            "WARNING:presidio-analyzer:Entity EMAIL_ADDRESS doesn't have the corresponding recognizer in language : fr\n",
            "WARNING:presidio-analyzer:Entity IBAN_CODE doesn't have the corresponding recognizer in language : fr\n",
            "WARNING:presidio-analyzer:Entity IP_ADDRESS doesn't have the corresponding recognizer in language : fr\n",
            "WARNING:presidio-analyzer:Entity MEDICAL_LICENSE doesn't have the corresponding recognizer in language : fr\n",
            "WARNING:presidio-analyzer:Entity URL doesn't have the corresponding recognizer in language : fr\n",
            "WARNING:presidio-analyzer:Entity NUMBER doesn't have the corresponding recognizer in language : fr\n"
          ]
        }
      ]
    },
    {
      "cell_type": "code",
      "source": [
        "words"
      ],
      "metadata": {
        "colab": {
          "base_uri": "https://localhost:8080/"
        },
        "id": "8gkqt7clQSvF",
        "outputId": "8d358943-9e35-4b42-e1dc-d282bf8a813b"
      },
      "execution_count": 36,
      "outputs": [
        {
          "output_type": "execute_result",
          "data": {
            "text/plain": [
              "[{'word': ' Kenya', 'entity_type': 'LOCATION', 'start': 461, 'end': 467},\n",
              " {'word': 'Inde', 'entity_type': 'LOCATION', 'start': 473, 'end': 477},\n",
              " {'word': ' Brésil', 'entity_type': 'LOCATION', 'start': 450, 'end': 457},\n",
              " {'word': ' Moyen-Orient',\n",
              "  'entity_type': 'LOCATION',\n",
              "  'start': 1249,\n",
              "  'end': 1262},\n",
              " {'word': ' Égypte', 'entity_type': 'LOCATION', 'start': 528, 'end': 535},\n",
              " {'word': ' Égypte', 'entity_type': 'LOCATION', 'start': 1519, 'end': 1526},\n",
              " {'word': ' Égypte', 'entity_type': 'LOCATION', 'start': 784, 'end': 791},\n",
              " {'word': 'FAO', 'entity_type': 'ORGANIZATION', 'start': 164, 'end': 167},\n",
              " {'word': ' Égypte', 'entity_type': 'LOCATION', 'start': 1006, 'end': 1013},\n",
              " {'word': 'IAS', 'entity_type': 'ORGANIZATION', 'start': 1661, 'end': 1664},\n",
              " {'word': 'IAS', 'entity_type': 'ORGANIZATION', 'start': 1286, 'end': 1289},\n",
              " {'word': 'Union européenne',\n",
              "  'entity_type': 'ORGANIZATION',\n",
              "  'start': 1166,\n",
              "  'end': 1182},\n",
              " {'word': ' Paris', 'entity_type': 'LOCATION', 'start': 35, 'end': 41},\n",
              " {'word': \"Organisation des Nations unies pour l'alimentation et l'agriculture\",\n",
              "  'entity_type': 'ORGANIZATION',\n",
              "  'start': 95,\n",
              "  'end': 162},\n",
              " {'word': 'Initiative pour une agriculture durable',\n",
              "  'entity_type': 'ORGANIZATION',\n",
              "  'start': 1074,\n",
              "  'end': 1113},\n",
              " {'word': 'IAS', 'entity_type': 'ORGANIZATION', 'start': 1115, 'end': 1118},\n",
              " {'word': ' Ahmed', 'entity_type': 'PERSON', 'start': 1429, 'end': 1435},\n",
              " {'word': ' Ahmed', 'entity_type': 'PERSON', 'start': 913, 'end': 919},\n",
              " {'word': 'Ahmed', 'entity_type': 'PERSON', 'start': 580, 'end': 585},\n",
              " {'word': ' Marie', 'entity_type': 'PERSON', 'start': 1420, 'end': 1426},\n",
              " {'word': 'Association égyptienne pour le développement rural',\n",
              "  'entity_type': 'ORGANIZATION',\n",
              "  'start': 641,\n",
              "  'end': 691},\n",
              " {'word': '\\nMarie', 'entity_type': 'PERSON', 'start': 904, 'end': 910},\n",
              " {'word': ' Ahmed', 'entity_type': 'PERSON', 'start': 792, 'end': 798},\n",
              " {'word': 'AEDR', 'entity_type': 'ORGANIZATION', 'start': 693, 'end': 697},\n",
              " {'word': 'Marie', 'entity_type': 'PERSON', 'start': 66, 'end': 71},\n",
              " {'word': 'Marie', 'entity_type': 'PERSON', 'start': 357, 'end': 362},\n",
              " {'word': 'Marie', 'entity_type': 'PERSON', 'start': 537, 'end': 542},\n",
              " {'word': 'Marie', 'entity_type': 'PERSON', 'start': 866, 'end': 871},\n",
              " {'word': ' Marie', 'entity_type': 'PERSON', 'start': 865, 'end': 871},\n",
              " {'word': ' Marie', 'entity_type': 'PERSON', 'start': 536, 'end': 542},\n",
              " {'word': ' Marie', 'entity_type': 'PERSON', 'start': 356, 'end': 362},\n",
              " {'word': ' Marie', 'entity_type': 'PERSON', 'start': 65, 'end': 71}]"
            ]
          },
          "metadata": {},
          "execution_count": 36
        }
      ]
    },
    {
      "cell_type": "code",
      "source": [
        "# We had to strip the results to remove the leading spaces and \\n\n",
        "word_results = [res['word'].strip() for res in words]"
      ],
      "metadata": {
        "id": "WVwg51TLI1Km"
      },
      "execution_count": 37,
      "outputs": []
    },
    {
      "cell_type": "code",
      "source": [
        "set(word_results)"
      ],
      "metadata": {
        "colab": {
          "base_uri": "https://localhost:8080/"
        },
        "id": "b_3rIBumJA_5",
        "outputId": "0848f032-bcb0-4c46-f268-a1ccacd4ec96"
      },
      "execution_count": 38,
      "outputs": [
        {
          "output_type": "execute_result",
          "data": {
            "text/plain": [
              "{'AEDR',\n",
              " 'Ahmed',\n",
              " 'Association égyptienne pour le développement rural',\n",
              " 'Brésil',\n",
              " 'FAO',\n",
              " 'IAS',\n",
              " 'Inde',\n",
              " 'Initiative pour une agriculture durable',\n",
              " 'Kenya',\n",
              " 'Marie',\n",
              " 'Moyen-Orient',\n",
              " \"Organisation des Nations unies pour l'alimentation et l'agriculture\",\n",
              " 'Paris',\n",
              " 'Union européenne',\n",
              " 'Égypte'}"
            ]
          },
          "metadata": {},
          "execution_count": 38
        }
      ]
    },
    {
      "cell_type": "code",
      "source": [
        "anonymization_results['anonymized']"
      ],
      "metadata": {
        "colab": {
          "base_uri": "https://localhost:8080/",
          "height": 191
        },
        "id": "iAkVkk0fYOoW",
        "outputId": "7843d6cc-abce-4020-e789-4f458b66d1b4"
      },
      "execution_count": 39,
      "outputs": [
        {
          "output_type": "execute_result",
          "data": {
            "text/plain": [
              "\"Il était une fois, dans la ville de<LOCATION>, une jeune femme nommée<PERSON> qui travaillait pour l'<ORGANIZATION> (<ORGANIZATION>). Elle avait pour mission de se rendre dans différents pays pour étudier les pratiques agricoles locales et promouvoir des méthodes durables pour nourrir la population mondiale croissante.<PERSON> était passionnée par son travail et avait déjà visité de nombreux endroits, tels que le<LOCATION>, le<LOCATION> et l'<LOCATION>.\\n\\nUn jour, alors qu'elle se trouvait en mission en<LOCATION>,<PERSON> rencontra un homme charmant du nom d'<PERSON>. Il travaillait pour une organisation locale appelée l'<ORGANIZATION> (<ORGANIZATION>), qui avait pour objectif d'améliorer les conditions de vie des communautés rurales en<LOCATION>.<PERSON> était également très intéressé par l'agriculture durable et lui et<PERSON> se lièrent d'amitié rapidement.\\n<PERSON> et<PERSON> ont continué à travailler ensemble pour promouvoir des pratiques agricoles durables en<LOCATION> et ont finalement créé une organisation conjointe appelée l'<ORGANIZATION> (<ORGANIZATION>). Ils ont réussi à obtenir un financement de l'<ORGANIZATION> pour leur projet et ont pu étendre leur travail à d'autres pays du<LOCATION>.\\n\\nAu fil des années, l'<ORGANIZATION> est devenue une organisation de premier plan dans le domaine de l'agriculture durable et a reçu de nombreux prix pour son travail.<PERSON> et<PERSON> ont continué à diriger l'organisation ensemble et ont fondé une famille heureuse en<LOCATION>. Leur travail a permis d'améliorer la vie de nombreuses personnes dans le monde entier et leur héritage continue de vivre à travers l'<ORGANIZATION>, qui continue à promouvoir des pratiques agricoles durables et à lutter contre la faim dans le monde.\""
            ],
            "application/vnd.google.colaboratory.intrinsic+json": {
              "type": "string"
            }
          },
          "metadata": {},
          "execution_count": 39
        }
      ]
    }
  ]
}